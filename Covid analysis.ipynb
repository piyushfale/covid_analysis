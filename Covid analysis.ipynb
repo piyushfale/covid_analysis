{
 "cells": [
  {
   "cell_type": "code",
   "execution_count": 26,
   "metadata": {},
   "outputs": [],
   "source": [
    "import pandas as pd\n",
    "import matplotlib.pyplot as plt\n",
    "import seaborn as sns\n",
    "import numpy as np"
   ]
  },
  {
   "cell_type": "code",
   "execution_count": 2,
   "metadata": {},
   "outputs": [],
   "source": [
    "covid = pd.read_csv(\"worldometer_data.csv\")"
   ]
  },
  {
   "cell_type": "code",
   "execution_count": 3,
   "metadata": {},
   "outputs": [
    {
     "data": {
      "text/html": [
       "<div>\n",
       "<style scoped>\n",
       "    .dataframe tbody tr th:only-of-type {\n",
       "        vertical-align: middle;\n",
       "    }\n",
       "\n",
       "    .dataframe tbody tr th {\n",
       "        vertical-align: top;\n",
       "    }\n",
       "\n",
       "    .dataframe thead th {\n",
       "        text-align: right;\n",
       "    }\n",
       "</style>\n",
       "<table border=\"1\" class=\"dataframe\">\n",
       "  <thead>\n",
       "    <tr style=\"text-align: right;\">\n",
       "      <th></th>\n",
       "      <th>Country/Region</th>\n",
       "      <th>Continent</th>\n",
       "      <th>Population</th>\n",
       "      <th>TotalCases</th>\n",
       "      <th>NewCases</th>\n",
       "      <th>TotalDeaths</th>\n",
       "      <th>NewDeaths</th>\n",
       "      <th>TotalRecovered</th>\n",
       "      <th>NewRecovered</th>\n",
       "      <th>ActiveCases</th>\n",
       "      <th>Serious,Critical</th>\n",
       "      <th>Tot Cases/1M pop</th>\n",
       "      <th>Deaths/1M pop</th>\n",
       "      <th>TotalTests</th>\n",
       "      <th>Tests/1M pop</th>\n",
       "      <th>WHO Region</th>\n",
       "    </tr>\n",
       "  </thead>\n",
       "  <tbody>\n",
       "    <tr>\n",
       "      <th>0</th>\n",
       "      <td>USA</td>\n",
       "      <td>North America</td>\n",
       "      <td>3.311981e+08</td>\n",
       "      <td>5032179</td>\n",
       "      <td>NaN</td>\n",
       "      <td>162804.0</td>\n",
       "      <td>NaN</td>\n",
       "      <td>2576668.0</td>\n",
       "      <td>NaN</td>\n",
       "      <td>2292707.0</td>\n",
       "      <td>18296.0</td>\n",
       "      <td>15194.0</td>\n",
       "      <td>492.0</td>\n",
       "      <td>63139605.0</td>\n",
       "      <td>190640.0</td>\n",
       "      <td>Americas</td>\n",
       "    </tr>\n",
       "    <tr>\n",
       "      <th>1</th>\n",
       "      <td>Brazil</td>\n",
       "      <td>South America</td>\n",
       "      <td>2.127107e+08</td>\n",
       "      <td>2917562</td>\n",
       "      <td>NaN</td>\n",
       "      <td>98644.0</td>\n",
       "      <td>NaN</td>\n",
       "      <td>2047660.0</td>\n",
       "      <td>NaN</td>\n",
       "      <td>771258.0</td>\n",
       "      <td>8318.0</td>\n",
       "      <td>13716.0</td>\n",
       "      <td>464.0</td>\n",
       "      <td>13206188.0</td>\n",
       "      <td>62085.0</td>\n",
       "      <td>Americas</td>\n",
       "    </tr>\n",
       "    <tr>\n",
       "      <th>2</th>\n",
       "      <td>India</td>\n",
       "      <td>Asia</td>\n",
       "      <td>1.381345e+09</td>\n",
       "      <td>2025409</td>\n",
       "      <td>NaN</td>\n",
       "      <td>41638.0</td>\n",
       "      <td>NaN</td>\n",
       "      <td>1377384.0</td>\n",
       "      <td>NaN</td>\n",
       "      <td>606387.0</td>\n",
       "      <td>8944.0</td>\n",
       "      <td>1466.0</td>\n",
       "      <td>30.0</td>\n",
       "      <td>22149351.0</td>\n",
       "      <td>16035.0</td>\n",
       "      <td>South-EastAsia</td>\n",
       "    </tr>\n",
       "  </tbody>\n",
       "</table>\n",
       "</div>"
      ],
      "text/plain": [
       "  Country/Region      Continent    Population  TotalCases  NewCases  \\\n",
       "0            USA  North America  3.311981e+08     5032179       NaN   \n",
       "1         Brazil  South America  2.127107e+08     2917562       NaN   \n",
       "2          India           Asia  1.381345e+09     2025409       NaN   \n",
       "\n",
       "   TotalDeaths  NewDeaths  TotalRecovered  NewRecovered  ActiveCases  \\\n",
       "0     162804.0        NaN       2576668.0           NaN    2292707.0   \n",
       "1      98644.0        NaN       2047660.0           NaN     771258.0   \n",
       "2      41638.0        NaN       1377384.0           NaN     606387.0   \n",
       "\n",
       "   Serious,Critical  Tot Cases/1M pop  Deaths/1M pop  TotalTests  \\\n",
       "0           18296.0           15194.0          492.0  63139605.0   \n",
       "1            8318.0           13716.0          464.0  13206188.0   \n",
       "2            8944.0            1466.0           30.0  22149351.0   \n",
       "\n",
       "   Tests/1M pop      WHO Region  \n",
       "0      190640.0        Americas  \n",
       "1       62085.0        Americas  \n",
       "2       16035.0  South-EastAsia  "
      ]
     },
     "execution_count": 3,
     "metadata": {},
     "output_type": "execute_result"
    }
   ],
   "source": [
    "covid.head(3)"
   ]
  },
  {
   "cell_type": "code",
   "execution_count": 4,
   "metadata": {},
   "outputs": [
    {
     "name": "stdout",
     "output_type": "stream",
     "text": [
      "<class 'pandas.core.frame.DataFrame'>\n",
      "RangeIndex: 209 entries, 0 to 208\n",
      "Data columns (total 16 columns):\n",
      " #   Column            Non-Null Count  Dtype  \n",
      "---  ------            --------------  -----  \n",
      " 0   Country/Region    209 non-null    object \n",
      " 1   Continent         208 non-null    object \n",
      " 2   Population        208 non-null    float64\n",
      " 3   TotalCases        209 non-null    int64  \n",
      " 4   NewCases          4 non-null      float64\n",
      " 5   TotalDeaths       188 non-null    float64\n",
      " 6   NewDeaths         3 non-null      float64\n",
      " 7   TotalRecovered    205 non-null    float64\n",
      " 8   NewRecovered      3 non-null      float64\n",
      " 9   ActiveCases       205 non-null    float64\n",
      " 10  Serious,Critical  122 non-null    float64\n",
      " 11  Tot Cases/1M pop  208 non-null    float64\n",
      " 12  Deaths/1M pop     187 non-null    float64\n",
      " 13  TotalTests        191 non-null    float64\n",
      " 14  Tests/1M pop      191 non-null    float64\n",
      " 15  WHO Region        184 non-null    object \n",
      "dtypes: float64(12), int64(1), object(3)\n",
      "memory usage: 26.2+ KB\n"
     ]
    }
   ],
   "source": [
    "covid.info()"
   ]
  },
  {
   "cell_type": "code",
   "execution_count": 5,
   "metadata": {},
   "outputs": [
    {
     "data": {
      "text/plain": [
       "Country/Region        0\n",
       "Continent             1\n",
       "Population            1\n",
       "TotalCases            0\n",
       "NewCases            205\n",
       "TotalDeaths          21\n",
       "NewDeaths           206\n",
       "TotalRecovered        4\n",
       "NewRecovered        206\n",
       "ActiveCases           4\n",
       "Serious,Critical     87\n",
       "Tot Cases/1M pop      1\n",
       "Deaths/1M pop        22\n",
       "TotalTests           18\n",
       "Tests/1M pop         18\n",
       "WHO Region           25\n",
       "dtype: int64"
      ]
     },
     "execution_count": 5,
     "metadata": {},
     "output_type": "execute_result"
    }
   ],
   "source": [
    "covid.isnull().sum()"
   ]
  },
  {
   "cell_type": "code",
   "execution_count": 6,
   "metadata": {},
   "outputs": [],
   "source": [
    "covidClean = covid.drop(columns=[\"NewCases\",\"NewDeaths\",\"NewRecovered\"])"
   ]
  },
  {
   "cell_type": "code",
   "execution_count": 7,
   "metadata": {},
   "outputs": [
    {
     "data": {
      "text/html": [
       "<div>\n",
       "<style scoped>\n",
       "    .dataframe tbody tr th:only-of-type {\n",
       "        vertical-align: middle;\n",
       "    }\n",
       "\n",
       "    .dataframe tbody tr th {\n",
       "        vertical-align: top;\n",
       "    }\n",
       "\n",
       "    .dataframe thead th {\n",
       "        text-align: right;\n",
       "    }\n",
       "</style>\n",
       "<table border=\"1\" class=\"dataframe\">\n",
       "  <thead>\n",
       "    <tr style=\"text-align: right;\">\n",
       "      <th></th>\n",
       "      <th>Country/Region</th>\n",
       "      <th>Continent</th>\n",
       "      <th>Population</th>\n",
       "      <th>TotalCases</th>\n",
       "      <th>TotalDeaths</th>\n",
       "      <th>TotalRecovered</th>\n",
       "      <th>ActiveCases</th>\n",
       "      <th>Serious,Critical</th>\n",
       "      <th>Tot Cases/1M pop</th>\n",
       "      <th>Deaths/1M pop</th>\n",
       "      <th>TotalTests</th>\n",
       "      <th>Tests/1M pop</th>\n",
       "      <th>WHO Region</th>\n",
       "    </tr>\n",
       "  </thead>\n",
       "  <tbody>\n",
       "    <tr>\n",
       "      <th>0</th>\n",
       "      <td>USA</td>\n",
       "      <td>North America</td>\n",
       "      <td>3.311981e+08</td>\n",
       "      <td>5032179</td>\n",
       "      <td>162804.0</td>\n",
       "      <td>2576668.0</td>\n",
       "      <td>2292707.0</td>\n",
       "      <td>18296.0</td>\n",
       "      <td>15194.0</td>\n",
       "      <td>492.0</td>\n",
       "      <td>63139605.0</td>\n",
       "      <td>190640.0</td>\n",
       "      <td>Americas</td>\n",
       "    </tr>\n",
       "    <tr>\n",
       "      <th>1</th>\n",
       "      <td>Brazil</td>\n",
       "      <td>South America</td>\n",
       "      <td>2.127107e+08</td>\n",
       "      <td>2917562</td>\n",
       "      <td>98644.0</td>\n",
       "      <td>2047660.0</td>\n",
       "      <td>771258.0</td>\n",
       "      <td>8318.0</td>\n",
       "      <td>13716.0</td>\n",
       "      <td>464.0</td>\n",
       "      <td>13206188.0</td>\n",
       "      <td>62085.0</td>\n",
       "      <td>Americas</td>\n",
       "    </tr>\n",
       "    <tr>\n",
       "      <th>2</th>\n",
       "      <td>India</td>\n",
       "      <td>Asia</td>\n",
       "      <td>1.381345e+09</td>\n",
       "      <td>2025409</td>\n",
       "      <td>41638.0</td>\n",
       "      <td>1377384.0</td>\n",
       "      <td>606387.0</td>\n",
       "      <td>8944.0</td>\n",
       "      <td>1466.0</td>\n",
       "      <td>30.0</td>\n",
       "      <td>22149351.0</td>\n",
       "      <td>16035.0</td>\n",
       "      <td>South-EastAsia</td>\n",
       "    </tr>\n",
       "  </tbody>\n",
       "</table>\n",
       "</div>"
      ],
      "text/plain": [
       "  Country/Region      Continent    Population  TotalCases  TotalDeaths  \\\n",
       "0            USA  North America  3.311981e+08     5032179     162804.0   \n",
       "1         Brazil  South America  2.127107e+08     2917562      98644.0   \n",
       "2          India           Asia  1.381345e+09     2025409      41638.0   \n",
       "\n",
       "   TotalRecovered  ActiveCases  Serious,Critical  Tot Cases/1M pop  \\\n",
       "0       2576668.0    2292707.0           18296.0           15194.0   \n",
       "1       2047660.0     771258.0            8318.0           13716.0   \n",
       "2       1377384.0     606387.0            8944.0            1466.0   \n",
       "\n",
       "   Deaths/1M pop  TotalTests  Tests/1M pop      WHO Region  \n",
       "0          492.0  63139605.0      190640.0        Americas  \n",
       "1          464.0  13206188.0       62085.0        Americas  \n",
       "2           30.0  22149351.0       16035.0  South-EastAsia  "
      ]
     },
     "execution_count": 7,
     "metadata": {},
     "output_type": "execute_result"
    }
   ],
   "source": [
    "covidClean.head(3)"
   ]
  },
  {
   "cell_type": "code",
   "execution_count": 8,
   "metadata": {},
   "outputs": [],
   "source": [
    "top15 = covidClean.head(15) "
   ]
  },
  {
   "cell_type": "code",
   "execution_count": 39,
   "metadata": {},
   "outputs": [
    {
     "data": {
      "text/plain": [
       "<Figure size 1008x72 with 0 Axes>"
      ]
     },
     "metadata": {},
     "output_type": "display_data"
    },
    {
     "data": {
      "image/png": "[encoded data removed]",
      "text/plain": [
       "<Figure size 1008x432 with 1 Axes>"
      ]
     },
     "metadata": {
      "needs_background": "light"
     },
     "output_type": "display_data"
    }
   ],
   "source": [
    "plt.figure(figsize=(14,1))\n",
    "ax = sns.relplot(x  = \"Country/Region\", y = \"TotalCases\",  data = top15 ).set(ylim=(0,7000000)).set(title = \"Top 15 countries with Total Covid Cases\")\n",
    "ax.fig.set_figwidth(14)\n",
    "ax.fig.set_figheight(6)\n"
   ]
  },
  {
   "cell_type": "code",
   "execution_count": 10,
   "metadata": {},
   "outputs": [
    {
     "data": {
      "text/plain": [
       "Text(0.5, 1.0, 'Recover vs Death')"
      ]
     },
     "execution_count": 10,
     "metadata": {},
     "output_type": "execute_result"
    },
    {
     "data": {
      "image/png": "[encoded data removed]",
      "text/plain": [
       "<Figure size 576x288 with 1 Axes>"
      ]
     },
     "metadata": {
      "needs_background": "light"
     },
     "output_type": "display_data"
    }
   ],
   "source": [
    "x = covid.TotalCases\n",
    "y1 = covid.TotalRecovered\n",
    "y2 = covid.TotalDeaths\n",
    "\n",
    "fig = plt.figure(figsize=(8,4))\n",
    "\n",
    "\n",
    "ax1 = fig.add_axes([0,0,1,1])\n",
    "\n",
    "ax1.set_xlabel(\"TotalCases\")\n",
    "\n",
    "ax1.plot(x,y1,linewidth = 3,color = 'g')\n",
    "ax1.plot(x,y2,linewidth = 3,color = 'r')\n",
    "ax1.legend([\"Recover\",\"Death\"])\n",
    "ax1.set_title(\"Recover vs Death\")\n"
   ]
  },
  {
   "cell_type": "code",
   "execution_count": 11,
   "metadata": {},
   "outputs": [],
   "source": [
    "contcovid = covid.groupby(\"Continent\").sum()"
   ]
  },
  {
   "cell_type": "code",
   "execution_count": 12,
   "metadata": {},
   "outputs": [
    {
     "data": {
      "text/html": [
       "<div>\n",
       "<style scoped>\n",
       "    .dataframe tbody tr th:only-of-type {\n",
       "        vertical-align: middle;\n",
       "    }\n",
       "\n",
       "    .dataframe tbody tr th {\n",
       "        vertical-align: top;\n",
       "    }\n",
       "\n",
       "    .dataframe thead th {\n",
       "        text-align: right;\n",
       "    }\n",
       "</style>\n",
       "<table border=\"1\" class=\"dataframe\">\n",
       "  <thead>\n",
       "    <tr style=\"text-align: right;\">\n",
       "      <th></th>\n",
       "      <th>Population</th>\n",
       "      <th>TotalCases</th>\n",
       "      <th>NewCases</th>\n",
       "      <th>TotalDeaths</th>\n",
       "      <th>NewDeaths</th>\n",
       "      <th>TotalRecovered</th>\n",
       "      <th>NewRecovered</th>\n",
       "      <th>ActiveCases</th>\n",
       "      <th>Serious,Critical</th>\n",
       "      <th>Tot Cases/1M pop</th>\n",
       "      <th>Deaths/1M pop</th>\n",
       "      <th>TotalTests</th>\n",
       "      <th>Tests/1M pop</th>\n",
       "    </tr>\n",
       "    <tr>\n",
       "      <th>Continent</th>\n",
       "      <th></th>\n",
       "      <th></th>\n",
       "      <th></th>\n",
       "      <th></th>\n",
       "      <th></th>\n",
       "      <th></th>\n",
       "      <th></th>\n",
       "      <th></th>\n",
       "      <th></th>\n",
       "      <th></th>\n",
       "      <th></th>\n",
       "      <th></th>\n",
       "      <th></th>\n",
       "    </tr>\n",
       "  </thead>\n",
       "  <tbody>\n",
       "    <tr>\n",
       "      <th>Africa</th>\n",
       "      <td>1.343515e+09</td>\n",
       "      <td>1011867</td>\n",
       "      <td>0.0</td>\n",
       "      <td>22114.0</td>\n",
       "      <td>0.0</td>\n",
       "      <td>693620.0</td>\n",
       "      <td>0.0</td>\n",
       "      <td>296133.0</td>\n",
       "      <td>1187.0</td>\n",
       "      <td>64456.0</td>\n",
       "      <td>1003.28</td>\n",
       "      <td>8673853.0</td>\n",
       "      <td>806042.0</td>\n",
       "    </tr>\n",
       "    <tr>\n",
       "      <th>Asia</th>\n",
       "      <td>3.173656e+09</td>\n",
       "      <td>4689794</td>\n",
       "      <td>20.0</td>\n",
       "      <td>100627.0</td>\n",
       "      <td>1.0</td>\n",
       "      <td>3508170.0</td>\n",
       "      <td>42.0</td>\n",
       "      <td>1080997.0</td>\n",
       "      <td>18749.0</td>\n",
       "      <td>192429.0</td>\n",
       "      <td>1846.80</td>\n",
       "      <td>65353821.0</td>\n",
       "      <td>3433453.0</td>\n",
       "    </tr>\n",
       "    <tr>\n",
       "      <th>Australia/Oceania</th>\n",
       "      <td>4.095791e+07</td>\n",
       "      <td>21735</td>\n",
       "      <td>0.0</td>\n",
       "      <td>281.0</td>\n",
       "      <td>0.0</td>\n",
       "      <td>12620.0</td>\n",
       "      <td>0.0</td>\n",
       "      <td>8834.0</td>\n",
       "      <td>52.0</td>\n",
       "      <td>1446.0</td>\n",
       "      <td>15.30</td>\n",
       "      <td>5152811.0</td>\n",
       "      <td>347083.0</td>\n",
       "    </tr>\n",
       "    <tr>\n",
       "      <th>Europe</th>\n",
       "      <td>7.476775e+08</td>\n",
       "      <td>2982576</td>\n",
       "      <td>0.0</td>\n",
       "      <td>205232.0</td>\n",
       "      <td>0.0</td>\n",
       "      <td>1587302.0</td>\n",
       "      <td>0.0</td>\n",
       "      <td>475261.0</td>\n",
       "      <td>5200.0</td>\n",
       "      <td>209454.0</td>\n",
       "      <td>9673.00</td>\n",
       "      <td>96125611.0</td>\n",
       "      <td>8286140.0</td>\n",
       "    </tr>\n",
       "    <tr>\n",
       "      <th>North America</th>\n",
       "      <td>5.895035e+08</td>\n",
       "      <td>5919209</td>\n",
       "      <td>6620.0</td>\n",
       "      <td>229855.0</td>\n",
       "      <td>819.0</td>\n",
       "      <td>3151678.0</td>\n",
       "      <td>4140.0</td>\n",
       "      <td>2537676.0</td>\n",
       "      <td>25709.0</td>\n",
       "      <td>88547.0</td>\n",
       "      <td>3097.00</td>\n",
       "      <td>70173584.0</td>\n",
       "      <td>2069875.0</td>\n",
       "    </tr>\n",
       "  </tbody>\n",
       "</table>\n",
       "</div>"
      ],
      "text/plain": [
       "                     Population  TotalCases  NewCases  TotalDeaths  NewDeaths  \\\n",
       "Continent                                                                       \n",
       "Africa             1.343515e+09     1011867       0.0      22114.0        0.0   \n",
       "Asia               3.173656e+09     4689794      20.0     100627.0        1.0   \n",
       "Australia/Oceania  4.095791e+07       21735       0.0        281.0        0.0   \n",
       "Europe             7.476775e+08     2982576       0.0     205232.0        0.0   \n",
       "North America      5.895035e+08     5919209    6620.0     229855.0      819.0   \n",
       "\n",
       "                   TotalRecovered  NewRecovered  ActiveCases  \\\n",
       "Continent                                                      \n",
       "Africa                   693620.0           0.0     296133.0   \n",
       "Asia                    3508170.0          42.0    1080997.0   \n",
       "Australia/Oceania         12620.0           0.0       8834.0   \n",
       "Europe                  1587302.0           0.0     475261.0   \n",
       "North America           3151678.0        4140.0    2537676.0   \n",
       "\n",
       "                   Serious,Critical  Tot Cases/1M pop  Deaths/1M pop  \\\n",
       "Continent                                                              \n",
       "Africa                       1187.0           64456.0        1003.28   \n",
       "Asia                        18749.0          192429.0        1846.80   \n",
       "Australia/Oceania              52.0            1446.0          15.30   \n",
       "Europe                       5200.0          209454.0        9673.00   \n",
       "North America               25709.0           88547.0        3097.00   \n",
       "\n",
       "                   TotalTests  Tests/1M pop  \n",
       "Continent                                    \n",
       "Africa              8673853.0      806042.0  \n",
       "Asia               65353821.0     3433453.0  \n",
       "Australia/Oceania   5152811.0      347083.0  \n",
       "Europe             96125611.0     8286140.0  \n",
       "North America      70173584.0     2069875.0  "
      ]
     },
     "execution_count": 12,
     "metadata": {},
     "output_type": "execute_result"
    }
   ],
   "source": [
    "contcovid.head()"
   ]
  },
  {
   "cell_type": "code",
   "execution_count": 13,
   "metadata": {},
   "outputs": [
    {
     "data": {
      "image/png": "[encoded data removed]",
      "text/plain": [
       "<Figure size 576x288 with 1 Axes>"
      ]
     },
     "metadata": {
      "needs_background": "light"
     },
     "output_type": "display_data"
    }
   ],
   "source": [
    "x2 = contcovid.index\n",
    "y2 = contcovid.TotalCases\n",
    "\n",
    "fig = plt.figure(figsize=(8,4))\n",
    "axes = fig.add_axes([0,0,1,1])\n",
    "\n",
    "axes = sns.barplot(x=x2, y=y2, data=contcovid).set(title = \"Total Cases according to Continent\")"
   ]
  },
  {
   "cell_type": "code",
   "execution_count": 14,
   "metadata": {},
   "outputs": [
    {
     "data": {
      "image/png": "[encoded data removed]",
      "text/plain": [
       "<Figure size 576x288 with 1 Axes>"
      ]
     },
     "metadata": {
      "needs_background": "light"
     },
     "output_type": "display_data"
    }
   ],
   "source": [
    "x2 = contcovid.index\n",
    "y2 = contcovid.TotalRecovered\n",
    "\n",
    "fig = plt.figure(figsize=(8,4))\n",
    "axes = fig.add_axes([0,0,1,1])\n",
    "\n",
    "axes = sns.barplot(x=x2, y=y2, data=contcovid).set(title = \"Total Recovered according to Continent\")"
   ]
  },
  {
   "cell_type": "code",
   "execution_count": 15,
   "metadata": {},
   "outputs": [
    {
     "data": {
      "image/png": "[encoded data removed]",
      "text/plain": [
       "<Figure size 576x288 with 1 Axes>"
      ]
     },
     "metadata": {
      "needs_background": "light"
     },
     "output_type": "display_data"
    }
   ],
   "source": [
    "x2 = contcovid.index\n",
    "y2 = contcovid.TotalDeaths\n",
    "\n",
    "fig = plt.figure(figsize=(8,4))\n",
    "axes = fig.add_axes([0,0,1,1])\n",
    "\n",
    "axes = sns.barplot(x=x2, y=y2, data=contcovid).set(title = \"Total Deaths according to Continent\")"
   ]
  },
  {
   "cell_type": "code",
   "execution_count": 16,
   "metadata": {},
   "outputs": [],
   "source": [
    "covidClean[\"RecovryRate\"] = covidClean.TotalRecovered / covidClean.TotalCases\n",
    "covidClean[\"DeathRate\"] = covidClean.TotalDeaths / covidClean.TotalCases"
   ]
  },
  {
   "cell_type": "code",
   "execution_count": 17,
   "metadata": {},
   "outputs": [],
   "source": [
    "top10 = covidClean.head(10)"
   ]
  },
  {
   "cell_type": "code",
   "execution_count": 18,
   "metadata": {},
   "outputs": [
    {
     "data": {
      "text/html": [
       "<div>\n",
       "<style scoped>\n",
       "    .dataframe tbody tr th:only-of-type {\n",
       "        vertical-align: middle;\n",
       "    }\n",
       "\n",
       "    .dataframe tbody tr th {\n",
       "        vertical-align: top;\n",
       "    }\n",
       "\n",
       "    .dataframe thead th {\n",
       "        text-align: right;\n",
       "    }\n",
       "</style>\n",
       "<table border=\"1\" class=\"dataframe\">\n",
       "  <thead>\n",
       "    <tr style=\"text-align: right;\">\n",
       "      <th></th>\n",
       "      <th>Population</th>\n",
       "      <th>TotalCases</th>\n",
       "      <th>TotalDeaths</th>\n",
       "      <th>TotalRecovered</th>\n",
       "      <th>ActiveCases</th>\n",
       "      <th>Serious,Critical</th>\n",
       "      <th>Tot Cases/1M pop</th>\n",
       "      <th>Deaths/1M pop</th>\n",
       "      <th>TotalTests</th>\n",
       "      <th>Tests/1M pop</th>\n",
       "      <th>RecovryRate</th>\n",
       "      <th>DeathRate</th>\n",
       "    </tr>\n",
       "  </thead>\n",
       "  <tbody>\n",
       "    <tr>\n",
       "      <th>count</th>\n",
       "      <td>1.000000e+01</td>\n",
       "      <td>1.000000e+01</td>\n",
       "      <td>10.00000</td>\n",
       "      <td>9.000000e+00</td>\n",
       "      <td>9.000000e+00</td>\n",
       "      <td>10.000000</td>\n",
       "      <td>10.000000</td>\n",
       "      <td>10.000000</td>\n",
       "      <td>1.000000e+01</td>\n",
       "      <td>10.000000</td>\n",
       "      <td>9.000000</td>\n",
       "      <td>10.000000</td>\n",
       "    </tr>\n",
       "    <tr>\n",
       "      <th>mean</th>\n",
       "      <td>2.409484e+08</td>\n",
       "      <td>1.338224e+06</td>\n",
       "      <td>44856.50000</td>\n",
       "      <td>9.130103e+05</td>\n",
       "      <td>4.878389e+05</td>\n",
       "      <td>4727.800000</td>\n",
       "      <td>9656.100000</td>\n",
       "      <td>361.900000</td>\n",
       "      <td>1.455390e+07</td>\n",
       "      <td>88762.000000</td>\n",
       "      <td>0.689305</td>\n",
       "      <td>0.041608</td>\n",
       "    </tr>\n",
       "    <tr>\n",
       "      <th>std</th>\n",
       "      <td>4.123389e+08</td>\n",
       "      <td>1.559496e+06</td>\n",
       "      <td>49638.36938</td>\n",
       "      <td>8.788422e+05</td>\n",
       "      <td>7.228317e+05</td>\n",
       "      <td>5660.496794</td>\n",
       "      <td>5615.108319</td>\n",
       "      <td>214.728485</td>\n",
       "      <td>1.969221e+07</td>\n",
       "      <td>70128.037479</td>\n",
       "      <td>0.122683</td>\n",
       "      <td>0.030064</td>\n",
       "    </tr>\n",
       "    <tr>\n",
       "      <th>min</th>\n",
       "      <td>1.913251e+07</td>\n",
       "      <td>3.545300e+05</td>\n",
       "      <td>9604.00000</td>\n",
       "      <td>1.923550e+05</td>\n",
       "      <td>1.661400e+04</td>\n",
       "      <td>539.000000</td>\n",
       "      <td>1466.000000</td>\n",
       "      <td>30.000000</td>\n",
       "      <td>1.056915e+06</td>\n",
       "      <td>8189.000000</td>\n",
       "      <td>0.512038</td>\n",
       "      <td>0.016752</td>\n",
       "    </tr>\n",
       "    <tr>\n",
       "      <th>25%</th>\n",
       "      <td>4.780155e+07</td>\n",
       "      <td>3.888555e+05</td>\n",
       "      <td>12605.75000</td>\n",
       "      <td>3.103370e+05</td>\n",
       "      <td>1.246480e+05</td>\n",
       "      <td>1375.000000</td>\n",
       "      <td>6236.250000</td>\n",
       "      <td>180.000000</td>\n",
       "      <td>1.974734e+06</td>\n",
       "      <td>39791.500000</td>\n",
       "      <td>0.667505</td>\n",
       "      <td>0.022161</td>\n",
       "    </tr>\n",
       "    <tr>\n",
       "      <th>50%</th>\n",
       "      <td>9.422386e+07</td>\n",
       "      <td>5.004370e+05</td>\n",
       "      <td>24462.00000</td>\n",
       "      <td>3.873160e+05</td>\n",
       "      <td>1.534160e+05</td>\n",
       "      <td>1896.500000</td>\n",
       "      <td>8322.500000</td>\n",
       "      <td>427.500000</td>\n",
       "      <td>5.107068e+06</td>\n",
       "      <td>68803.000000</td>\n",
       "      <td>0.681447</td>\n",
       "      <td>0.032864</td>\n",
       "    </tr>\n",
       "    <tr>\n",
       "      <th>75%</th>\n",
       "      <td>1.960182e+08</td>\n",
       "      <td>1.737030e+06</td>\n",
       "      <td>48297.25000</td>\n",
       "      <td>1.377384e+06</td>\n",
       "      <td>6.063870e+05</td>\n",
       "      <td>7235.250000</td>\n",
       "      <td>13773.750000</td>\n",
       "      <td>510.750000</td>\n",
       "      <td>1.991356e+07</td>\n",
       "      <td>136320.750000</td>\n",
       "      <td>0.719672</td>\n",
       "      <td>0.042088</td>\n",
       "    </tr>\n",
       "    <tr>\n",
       "      <th>max</th>\n",
       "      <td>1.381345e+09</td>\n",
       "      <td>5.032179e+06</td>\n",
       "      <td>162804.00000</td>\n",
       "      <td>2.576668e+06</td>\n",
       "      <td>2.292707e+06</td>\n",
       "      <td>18296.000000</td>\n",
       "      <td>19165.000000</td>\n",
       "      <td>619.000000</td>\n",
       "      <td>6.313960e+07</td>\n",
       "      <td>203623.000000</td>\n",
       "      <td>0.927720</td>\n",
       "      <td>0.109181</td>\n",
       "    </tr>\n",
       "  </tbody>\n",
       "</table>\n",
       "</div>"
      ],
      "text/plain": [
       "         Population    TotalCases   TotalDeaths  TotalRecovered   ActiveCases  \\\n",
       "count  1.000000e+01  1.000000e+01      10.00000    9.000000e+00  9.000000e+00   \n",
       "mean   2.409484e+08  1.338224e+06   44856.50000    9.130103e+05  4.878389e+05   \n",
       "std    4.123389e+08  1.559496e+06   49638.36938    8.788422e+05  7.228317e+05   \n",
       "min    1.913251e+07  3.545300e+05    9604.00000    1.923550e+05  1.661400e+04   \n",
       "25%    4.780155e+07  3.888555e+05   12605.75000    3.103370e+05  1.246480e+05   \n",
       "50%    9.422386e+07  5.004370e+05   24462.00000    3.873160e+05  1.534160e+05   \n",
       "75%    1.960182e+08  1.737030e+06   48297.25000    1.377384e+06  6.063870e+05   \n",
       "max    1.381345e+09  5.032179e+06  162804.00000    2.576668e+06  2.292707e+06   \n",
       "\n",
       "       Serious,Critical  Tot Cases/1M pop  Deaths/1M pop    TotalTests  \\\n",
       "count         10.000000         10.000000      10.000000  1.000000e+01   \n",
       "mean        4727.800000       9656.100000     361.900000  1.455390e+07   \n",
       "std         5660.496794       5615.108319     214.728485  1.969221e+07   \n",
       "min          539.000000       1466.000000      30.000000  1.056915e+06   \n",
       "25%         1375.000000       6236.250000     180.000000  1.974734e+06   \n",
       "50%         1896.500000       8322.500000     427.500000  5.107068e+06   \n",
       "75%         7235.250000      13773.750000     510.750000  1.991356e+07   \n",
       "max        18296.000000      19165.000000     619.000000  6.313960e+07   \n",
       "\n",
       "        Tests/1M pop  RecovryRate  DeathRate  \n",
       "count      10.000000     9.000000  10.000000  \n",
       "mean    88762.000000     0.689305   0.041608  \n",
       "std     70128.037479     0.122683   0.030064  \n",
       "min      8189.000000     0.512038   0.016752  \n",
       "25%     39791.500000     0.667505   0.022161  \n",
       "50%     68803.000000     0.681447   0.032864  \n",
       "75%    136320.750000     0.719672   0.042088  \n",
       "max    203623.000000     0.927720   0.109181  "
      ]
     },
     "execution_count": 18,
     "metadata": {},
     "output_type": "execute_result"
    }
   ],
   "source": [
    "top10.describe()"
   ]
  },
  {
   "cell_type": "code",
   "execution_count": 19,
   "metadata": {},
   "outputs": [
    {
     "data": {
      "text/html": [
       "<div>\n",
       "<style scoped>\n",
       "    .dataframe tbody tr th:only-of-type {\n",
       "        vertical-align: middle;\n",
       "    }\n",
       "\n",
       "    .dataframe tbody tr th {\n",
       "        vertical-align: top;\n",
       "    }\n",
       "\n",
       "    .dataframe thead th {\n",
       "        text-align: right;\n",
       "    }\n",
       "</style>\n",
       "<table border=\"1\" class=\"dataframe\">\n",
       "  <thead>\n",
       "    <tr style=\"text-align: right;\">\n",
       "      <th></th>\n",
       "      <th>Country/Region</th>\n",
       "      <th>Continent</th>\n",
       "      <th>Population</th>\n",
       "      <th>TotalCases</th>\n",
       "      <th>TotalDeaths</th>\n",
       "      <th>TotalRecovered</th>\n",
       "      <th>ActiveCases</th>\n",
       "      <th>Serious,Critical</th>\n",
       "      <th>Tot Cases/1M pop</th>\n",
       "      <th>Deaths/1M pop</th>\n",
       "      <th>TotalTests</th>\n",
       "      <th>Tests/1M pop</th>\n",
       "      <th>WHO Region</th>\n",
       "      <th>RecovryRate</th>\n",
       "      <th>DeathRate</th>\n",
       "    </tr>\n",
       "  </thead>\n",
       "  <tbody>\n",
       "    <tr>\n",
       "      <th>0</th>\n",
       "      <td>USA</td>\n",
       "      <td>North America</td>\n",
       "      <td>331198130.0</td>\n",
       "      <td>5032179</td>\n",
       "      <td>162804.0</td>\n",
       "      <td>2576668.0</td>\n",
       "      <td>2292707.0</td>\n",
       "      <td>18296.0</td>\n",
       "      <td>15194.0</td>\n",
       "      <td>492.0</td>\n",
       "      <td>63139605.0</td>\n",
       "      <td>190640.0</td>\n",
       "      <td>Americas</td>\n",
       "      <td>0.512038</td>\n",
       "      <td>0.032353</td>\n",
       "    </tr>\n",
       "    <tr>\n",
       "      <th>1</th>\n",
       "      <td>Brazil</td>\n",
       "      <td>South America</td>\n",
       "      <td>212710692.0</td>\n",
       "      <td>2917562</td>\n",
       "      <td>98644.0</td>\n",
       "      <td>2047660.0</td>\n",
       "      <td>771258.0</td>\n",
       "      <td>8318.0</td>\n",
       "      <td>13716.0</td>\n",
       "      <td>464.0</td>\n",
       "      <td>13206188.0</td>\n",
       "      <td>62085.0</td>\n",
       "      <td>Americas</td>\n",
       "      <td>0.701839</td>\n",
       "      <td>0.033810</td>\n",
       "    </tr>\n",
       "  </tbody>\n",
       "</table>\n",
       "</div>"
      ],
      "text/plain": [
       "  Country/Region      Continent   Population  TotalCases  TotalDeaths  \\\n",
       "0            USA  North America  331198130.0     5032179     162804.0   \n",
       "1         Brazil  South America  212710692.0     2917562      98644.0   \n",
       "\n",
       "   TotalRecovered  ActiveCases  Serious,Critical  Tot Cases/1M pop  \\\n",
       "0       2576668.0    2292707.0           18296.0           15194.0   \n",
       "1       2047660.0     771258.0            8318.0           13716.0   \n",
       "\n",
       "   Deaths/1M pop  TotalTests  Tests/1M pop WHO Region  RecovryRate  DeathRate  \n",
       "0          492.0  63139605.0      190640.0   Americas     0.512038   0.032353  \n",
       "1          464.0  13206188.0       62085.0   Americas     0.701839   0.033810  "
      ]
     },
     "execution_count": 19,
     "metadata": {},
     "output_type": "execute_result"
    }
   ],
   "source": [
    "top10.head(2)"
   ]
  },
  {
   "cell_type": "code",
   "execution_count": 20,
   "metadata": {},
   "outputs": [
    {
     "data": {
      "image/png": "[encoded data removed]",
      "text/plain": [
       "<Figure size 864x432 with 1 Axes>"
      ]
     },
     "metadata": {
      "needs_background": "light"
     },
     "output_type": "display_data"
    }
   ],
   "source": [
    "fig = plt.figure(figsize = (12,6))\n",
    "\n",
    "\n",
    "ax1 = sns.barplot(x = \"Country/Region\",y = \"RecovryRate\" , data = top10).set(ylim=(0,1),title = \"top 10 country with recovry rate\")\n",
    "#ax1.fig.set_figwidth(14)"
   ]
  },
  {
   "cell_type": "code",
   "execution_count": 21,
   "metadata": {},
   "outputs": [
    {
     "data": {
      "image/png": "[encoded data removed]",
      "text/plain": [
       "<Figure size 864x432 with 1 Axes>"
      ]
     },
     "metadata": {
      "needs_background": "light"
     },
     "output_type": "display_data"
    }
   ],
   "source": [
    "figu = plt.figure(figsize = (12,6))\n",
    "ax1 = sns.barplot(x = \"Country/Region\",y = \"DeathRate\" , data = top10).set(ylim=(0,0.5),title = \"top 10 country with Death rate\")"
   ]
  },
  {
   "cell_type": "code",
   "execution_count": 28,
   "metadata": {},
   "outputs": [],
   "source": [
    "w = 0.25\n",
    " \n",
    "y1 = top10.DeathRate\n",
    "y2 = top10.RecovryRate\n",
    "\n",
    "lenn = top10[\"Country/Region\"]\n",
    "x1 = np.arange(len(lenn))\n",
    "x2 = [i+w for i in x1]"
   ]
  },
  {
   "cell_type": "code",
   "execution_count": 41,
   "metadata": {},
   "outputs": [
    {
     "data": {
      "text/plain": [
       "<matplotlib.legend.Legend at 0x298b30ecdf0>"
      ]
     },
     "execution_count": 41,
     "metadata": {},
     "output_type": "execute_result"
    },
    {
     "data": {
      "image/png": "[encoded data removed]",
      "text/plain": [
       "<Figure size 1008x576 with 1 Axes>"
      ]
     },
     "metadata": {
      "needs_background": "light"
     },
     "output_type": "display_data"
    }
   ],
   "source": [
    "plt.figure(figsize=(14,8))\n",
    "plt.bar(x1, y2,width=w,edgecolor='white', label='Recovry Rate')\n",
    "plt.bar(x2, y1,width=w,edgecolor='white', label='Death Rate')\n",
    "\n",
    "plt.xticks(x1,lenn)\n",
    "\n",
    "plt.legend()"
   ]
  },
  {
   "cell_type": "code",
   "execution_count": 24,
   "metadata": {},
   "outputs": [
    {
     "data": {
      "text/plain": [
       "<AxesSubplot:>"
      ]
     },
     "execution_count": 24,
     "metadata": {},
     "output_type": "execute_result"
    },
    {
     "data": {
      "image/png": "[encoded data removed]",
      "text/plain": [
       "<Figure size 1008x576 with 1 Axes>"
      ]
     },
     "metadata": {
      "needs_background": "light"
     },
     "output_type": "display_data"
    }
   ],
   "source": [
    "plt.figure(figsize=(14,8))\n",
    "covidClean.RecovryRate.hist(bins = 20)"
   ]
  },
  {
   "cell_type": "code",
   "execution_count": 25,
   "metadata": {},
   "outputs": [
    {
     "data": {
      "text/plain": [
       "<AxesSubplot:>"
      ]
     },
     "execution_count": 25,
     "metadata": {},
     "output_type": "execute_result"
    },
    {
     "data": {
      "image/png": "[encoded data removed]",
      "text/plain": [
       "<Figure size 1008x576 with 1 Axes>"
      ]
     },
     "metadata": {
      "needs_background": "light"
     },
     "output_type": "display_data"
    }
   ],
   "source": [
    "plt.figure(figsize=(14,8))\n",
    "covidClean.DeathRate.hist(bins = 20)"
   ]
  },
  {
   "cell_type": "code",
   "execution_count": null,
   "metadata": {},
   "outputs": [],
   "source": []
  }
 ],
 "metadata": {
  "kernelspec": {
   "display_name": "Python 3",
   "language": "python",
   "name": "python3"
  },
  "language_info": {
   "codemirror_mode": {
    "name": "ipython",
    "version": 3
   },
   "file_extension": ".py",
   "mimetype": "text/x-python",
   "name": "python",
   "nbconvert_exporter": "python",
   "pygments_lexer": "ipython3",
   "version": "3.8.5"
  }
 },
 "nbformat": 4,
 "nbformat_minor": 4
}
